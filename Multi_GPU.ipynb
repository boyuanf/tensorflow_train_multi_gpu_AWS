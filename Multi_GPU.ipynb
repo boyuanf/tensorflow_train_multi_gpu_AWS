{
 "cells": [
  {
   "cell_type": "markdown",
   "metadata": {
    "collapsed": true
   },
   "source": [
    "## 1. test tf.name_scope()"
   ]
  },
  {
   "cell_type": "code",
   "execution_count": 1,
   "metadata": {},
   "outputs": [
    {
     "name": "stdout",
     "output_type": "stream",
     "text": [
      "Tensor(\"test_scope1/Cast:0\", shape=(3,), dtype=int64)\n[<tf.Tensor 'test_scope1/Cast:0' shape=(3,) dtype=int64>]\n[<tf.Tensor 'test_scope1/Cast:0' shape=(3,) dtype=int64>]\nTensor(\"test_scope2/Cast:0\", shape=(3,), dtype=int64)\n[<tf.Tensor 'test_scope2/Cast:0' shape=(3,) dtype=int64>]\n[<tf.Tensor 'test_scope2/Cast:0' shape=(3,) dtype=int64>]\n[<tf.Tensor 'test_scope1/Cast:0' shape=(3,) dtype=int64>]\n"
     ]
    }
   ],
   "source": [
    "import tensorflow as tf\n",
    "\n",
    "FLAGS = tf.app.flags.FLAGS\n",
    "\n",
    "tf.app.flags.DEFINE_string('train_dir', 'C:\\\\Boyuan\\\\MyPython\\\\MNIST_Dataset',\n",
    "                           \"\"\"Directory where to read data, write event logs \"\"\"\n",
    "                           \"\"\"and checkpoint.\"\"\")\n",
    "tf.app.flags.DEFINE_integer('max_steps', 100,\n",
    "                            \"\"\"Number of batches to run.\"\"\")\n",
    "tf.app.flags.DEFINE_integer('num_gpus', 1,\n",
    "                            \"\"\"How many GPUs to use.\"\"\")\n",
    "tf.app.flags.DEFINE_boolean('log_device_placement', False,\n",
    "                            \"\"\"Whether to log device placement.\"\"\")\n",
    "\n",
    "def get_loss():\n",
    "    cross_entropy_mean = tf.cast([1, 2, 3], tf.int64)\n",
    "    print(cross_entropy_mean)\n",
    "    tf.add_to_collection('losses', cross_entropy_mean)\n",
    "\n",
    "def tower_loss(scope):\n",
    "    get_loss()\n",
    "    tower_losses = tf.get_collection('losses', scope)\n",
    "    print(tower_losses)\n",
    "    return tower_losses\n",
    "\n",
    "with tf.name_scope('test_scope1') as scope:\n",
    "    losses = tower_loss(scope)\n",
    "    print(losses)\n",
    "\n",
    "with tf.name_scope('test_scope2') as scope:\n",
    "    losses = tower_loss(scope)\n",
    "    print(losses)\n",
    "\n",
    "\n",
    "tower_losses_1 = tf.get_collection('losses', 'test_scope1')\n",
    "print(tower_losses_1)"
   ]
  },
  {
   "cell_type": "code",
   "execution_count": null,
   "metadata": {},
   "outputs": [],
   "source": []
  },
  {
   "cell_type": "code",
   "execution_count": null,
   "metadata": {},
   "outputs": [],
   "source": []
  },
  {
   "cell_type": "code",
   "execution_count": null,
   "metadata": {},
   "outputs": [],
   "source": []
  },
  {
   "cell_type": "code",
   "execution_count": null,
   "metadata": {},
   "outputs": [],
   "source": []
  },
  {
   "cell_type": "code",
   "execution_count": null,
   "metadata": {},
   "outputs": [],
   "source": []
  },
  {
   "cell_type": "code",
   "execution_count": null,
   "metadata": {},
   "outputs": [],
   "source": []
  },
  {
   "cell_type": "code",
   "execution_count": null,
   "metadata": {},
   "outputs": [],
   "source": []
  },
  {
   "cell_type": "code",
   "execution_count": null,
   "metadata": {},
   "outputs": [],
   "source": []
  },
  {
   "cell_type": "code",
   "execution_count": null,
   "metadata": {},
   "outputs": [],
   "source": []
  },
  {
   "cell_type": "code",
   "execution_count": null,
   "metadata": {},
   "outputs": [],
   "source": []
  },
  {
   "cell_type": "code",
   "execution_count": null,
   "metadata": {},
   "outputs": [],
   "source": []
  },
  {
   "cell_type": "code",
   "execution_count": null,
   "metadata": {},
   "outputs": [],
   "source": []
  },
  {
   "cell_type": "code",
   "execution_count": null,
   "metadata": {},
   "outputs": [],
   "source": []
  },
  {
   "cell_type": "code",
   "execution_count": null,
   "metadata": {},
   "outputs": [],
   "source": []
  },
  {
   "cell_type": "code",
   "execution_count": null,
   "metadata": {},
   "outputs": [],
   "source": []
  },
  {
   "cell_type": "code",
   "execution_count": null,
   "metadata": {},
   "outputs": [],
   "source": []
  },
  {
   "cell_type": "code",
   "execution_count": null,
   "metadata": {},
   "outputs": [],
   "source": []
  },
  {
   "cell_type": "code",
   "execution_count": null,
   "metadata": {},
   "outputs": [],
   "source": []
  },
  {
   "cell_type": "code",
   "execution_count": null,
   "metadata": {},
   "outputs": [],
   "source": []
  }
 ],
 "metadata": {
  "kernelspec": {
   "display_name": "Python 2",
   "language": "python",
   "name": "python2"
  },
  "language_info": {
   "codemirror_mode": {
    "name": "ipython",
    "version": 2
   },
   "file_extension": ".py",
   "mimetype": "text/x-python",
   "name": "python",
   "nbconvert_exporter": "python",
   "pygments_lexer": "ipython2",
   "version": "2.7.6"
  }
 },
 "nbformat": 4,
 "nbformat_minor": 0
}
